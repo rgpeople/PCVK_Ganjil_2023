{
  "nbformat": 4,
  "nbformat_minor": 0,
  "metadata": {
    "colab": {
      "provenance": [],
      "authorship_tag": "ABX9TyMnlYvYsM0WkHR8o3KYK2yB",
      "include_colab_link": true
    },
    "kernelspec": {
      "name": "python3",
      "display_name": "Python 3"
    },
    "language_info": {
      "name": "python"
    }
  },
  "cells": [
    {
      "cell_type": "markdown",
      "metadata": {
        "id": "view-in-github",
        "colab_type": "text"
      },
      "source": [
        "<a href=\"https://colab.research.google.com/github/rgpeople/PCVK_Ganjil_2023/blob/main/pertemuan1.ipynb\" target=\"_parent\"><img src=\"https://colab.research.google.com/assets/colab-badge.svg\" alt=\"Open In Colab\"/></a>"
      ]
    },
    {
      "cell_type": "markdown",
      "source": [
        "## **Langkah (Step) 1:**\n",
        "Pada code awal, beberapa library yang akan digunakan adalah: numpy, pandas, cv2, skimage, PIL, matplotlib\n",
        "\n",
        "  **--Bahasa--**\n",
        "\n",
        "*   **Numpy** adalah perpustakaan manipulasi array, digunakan untuk aljabar linier,\n",
        "transformasi Fourier, dan kemampuan bilangan acak.\n",
        "*   **Pandas** adalah perpustakaan untuk manipulasi data dan analisis data.\n",
        "*   **CV2** adalah perpustakaan untuk tugas-tugas visi komputer.\n",
        "*   **Skimage** adalah perpustakaan yang mendukung aplikasi pengolah gambar dengan python.\n",
        "*   **Matplotlib** adalah perpustakaan yang menghasilkan gambar dan menyediakan perangkat antarmuka pengguna grafis.\n",
        "\n",
        "\n",
        "**--English--**\n",
        "\n",
        "*   **Numpy** is an array manipulation library, used for linear algebra, Fourier transform, and random number capabilities.\n",
        "*   **Pandas** is a library for data manipulation and data analysis.\n",
        "*   **CV2** is a library for computer vision tasks.\n",
        "*   **Skimage** is a library which supports image processing applications on python.\n",
        "*   **Matplotlib** is a library which generates figures and provides graphical user interface toolkit.\n",
        "\n",
        "\n",
        "\n",
        "\n"
      ],
      "metadata": {
        "id": "ToysYWC39NAN"
      }
    },
    {
      "cell_type": "code",
      "execution_count": null,
      "metadata": {
        "id": "IzJiMEvs9D-S"
      },
      "outputs": [],
      "source": []
    }
  ]
}